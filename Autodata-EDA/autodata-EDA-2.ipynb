{
 "cells": [
  {
   "cell_type": "code",
   "execution_count": 1,
   "id": "9fbc6475",
   "metadata": {},
   "outputs": [],
   "source": [
    "import pandas as pd\n",
    "import plotly.express as px\n",
    "import matplotlib.pyplot as plt\n",
    "from matplotlib import pyplot\n",
    "from PIL import Image\n",
    "import requests\n",
    "from io import BytesIO\n",
    "import xgboost as xgb\n",
    "from category_encoders import TargetEncoder\n",
    "from sklearn import preprocessing\n",
    "from sklearn.preprocessing import LabelEncoder , OneHotEncoder\n",
    "from sklearn.model_selection import train_test_split\n",
    "from sklearn.linear_model import LogisticRegression\n",
    "from sklearn.metrics import confusion_matrix , classification_report , accuracy_score,f1_score\n",
    "from sklearn.model_selection import train_test_split\n",
    "from sklearn.feature_extraction.text import CountVectorizer\n",
    "from sklearn.feature_extraction.text import TfidfTransformer\n",
    "from sklearn.naive_bayes import MultinomialNB\n",
    "from sklearn.linear_model import LogisticRegression\n",
    "from sklearn.ensemble import RandomForestClassifier\n",
    "from sklearn.svm import SVC\n",
    "from sklearn.neighbors import KNeighborsClassifier\n",
    "from sklearn.svm import LinearSVC\n",
    "from sklearn.model_selection import cross_val_score\n",
    "from IPython.display import display\n",
    "from sklearn import metrics\n",
    "import advertools as adv\n",
    "from sklearn.metrics import confusion_matrix\n",
    "from sklearn.metrics import accuracy_score, confusion_matrix, roc_auc_score, roc_curve\n",
    "import seaborn as sns\n",
    "import plotly.express as px\n",
    "import pickle\n",
    "from xgboost import plot_importance\n",
    "import plotly.graph_objects as go\n",
    "import warnings\n",
    "import optuna\n",
    "from fitter import Fitter\n",
    "warnings.filterwarnings('ignore')"
   ]
  },
  {
   "cell_type": "markdown",
   "id": "af44f284",
   "metadata": {},
   "source": [
    "X-train, X-test, y_train, y_test ayrılacak\n",
    "Frq ve Sev modeli pickle ile export edilecek\n",
    "X_test FRQ ve SEV modeliyle predict edilecek\n",
    "Pred FRQ X PRED sev = BAZ PRIM bulunacak (base prim)\n",
    "Baz prim ile toplam ödenen tutar(CLM_AMT.sum()) karşılaştırılacak ( Ne kadar yakın çıkarsa o kadar iyi)\n",
    "Tüm adımlar ve sonuçlar sunum formatında hazırlanacak.\n"
   ]
  },
  {
   "cell_type": "code",
   "execution_count": 2,
   "id": "dcbd6722",
   "metadata": {},
   "outputs": [],
   "source": [
    "FRQ_Model = pickle.load(open('FRQ_Model.sav', 'rb'))\n",
    "SEV_Model = pickle.load(open('SEV_Model.sav', 'rb'))\n",
    "target_encoder = pickle.load(open('Target_Encoder.sav','rb'))\n",
    "dataset_dict_FRQ = pickle.load(open('Dataset_Dict_FRQ', 'rb'))\n",
    "dataset_dict_SEV = pickle.load(open('Dataset_Dict_SEV', 'rb'))"
   ]
  },
  {
   "cell_type": "code",
   "execution_count": 8,
   "id": "f24ca55c",
   "metadata": {},
   "outputs": [],
   "source": [
    "X_test = dataset_dict_SEV['X_test']\n",
    "X_test = target_encoder.transform(X_test)\n",
    "pred_FRQ = FRQ_Model.predict(X_test)\n",
    "pred_SEV = SEV_Model.predict(X_test)"
   ]
  },
  {
   "cell_type": "code",
   "execution_count": 6,
   "id": "77af6873",
   "metadata": {
    "scrolled": true
   },
   "outputs": [],
   "source": [
    "basis_premium = pred_FRQ * pred_SEV\n"
   ]
  },
  {
   "cell_type": "code",
   "execution_count": 41,
   "id": "4570e30b",
   "metadata": {},
   "outputs": [
    {
     "data": {
      "text/plain": [
       "15569067.0"
      ]
     },
     "execution_count": 41,
     "metadata": {},
     "output_type": "execute_result"
    }
   ],
   "source": [
    "df_CLM_AMT = pickle.load(open('CLM_AMT','rb'))\n",
    "df_CLM_AMT['CLM_AMT'].sum()"
   ]
  },
  {
   "cell_type": "code",
   "execution_count": 43,
   "id": "2d0b6bc1",
   "metadata": {},
   "outputs": [
    {
     "data": {
      "text/plain": [
       "13567900.5"
      ]
     },
     "execution_count": 43,
     "metadata": {},
     "output_type": "execute_result"
    }
   ],
   "source": [
    "df_CLM_AMT['CLM_AMT'].sum() - basis_premium.sum()  "
   ]
  },
  {
   "cell_type": "code",
   "execution_count": null,
   "id": "f69f46d8",
   "metadata": {},
   "outputs": [],
   "source": []
  }
 ],
 "metadata": {
  "kernelspec": {
   "display_name": "Python 3 (ipykernel)",
   "language": "python",
   "name": "python3"
  },
  "language_info": {
   "codemirror_mode": {
    "name": "ipython",
    "version": 3
   },
   "file_extension": ".py",
   "mimetype": "text/x-python",
   "name": "python",
   "nbconvert_exporter": "python",
   "pygments_lexer": "ipython3",
   "version": "3.10.9"
  }
 },
 "nbformat": 4,
 "nbformat_minor": 5
}
